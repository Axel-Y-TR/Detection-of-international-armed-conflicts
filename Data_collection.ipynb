{
 "cells": [
  {
   "cell_type": "code",
   "execution_count": null,
   "metadata": {},
   "outputs": [],
   "source": [
    "import pandas as pd \n",
    "import world_bank_data as wb\n",
    "import kaggle\n",
    "from kaggle.api.kaggle_api_extended import KaggleApi\n",
    "import pycountry\n",
    "import numpy as np"
   ]
  },
  {
   "cell_type": "markdown",
   "metadata": {},
   "source": [
    "### FONCTION PRE - TRAITEMENT DATAFRAME"
   ]
  },
  {
   "cell_type": "code",
   "execution_count": null,
   "metadata": {},
   "outputs": [],
   "source": [
    "# Fonction pour générer les features venant de la WB\n",
    "\n",
    "def generate_df(indicator):\n",
    "    date_range = range(1995, 2020)\n",
    "    dfs_by_year = {}\n",
    "\n",
    "    for year in date_range:\n",
    "        serie = wb.get_series(indicator, date=year, id_or_value='id', simplify_index=True)\n",
    "        df_year = pd.DataFrame({'changer': serie})\n",
    "        df_year['year'] = year\n",
    "        dfs_by_year[year] = df_year\n",
    "\n",
    "    df_feature = pd.concat(dfs_by_year.values())\n",
    "\n",
    "    categories = pd.cut(df_feature['year'], bins=range(1990, 2021, 5), labels=[f'{i}-{i+4}' for i in range(1990, 2016, 5)], right=False)\n",
    "\n",
    "    df_feature['Catégorie'] = categories\n",
    "\n",
    "    df_feature = df_feature.reset_index()\n",
    "\n",
    "    return df_feature\n"
   ]
  },
  {
   "cell_type": "code",
   "execution_count": null,
   "metadata": {},
   "outputs": [],
   "source": [
    "# Fonction pour générer les features venant de l'UCDP\n",
    "\n",
    "def generate_df2(file_name):\n",
    "    df = pd.read_csv(file_name)\n",
    "\n",
    "    mask = (df['year'] >= 1990) & (df['year'] <= 2024)\n",
    "    df = df[mask]\n",
    "\n",
    "    columns = ['location', 'year']\n",
    "    df = df[columns]\n",
    "\n",
    "    categories = pd.cut(df['year'], bins=range(1990, 2026, 5), labels=[f'{i}-{i+4}' for i in range(1990, 2021, 5)], right=False)\n",
    "\n",
    "    df['Catégorie'] = categories\n",
    "    df['Number of conflicts'] = 1\n",
    "    df['Conflict in the next 5 years'] = 'yes'\n",
    "\n",
    "    return df"
   ]
  },
  {
   "cell_type": "markdown",
   "metadata": {},
   "source": [
    "### RECHERCHE INDICE "
   ]
  },
  {
   "cell_type": "code",
   "execution_count": null,
   "metadata": {},
   "outputs": [],
   "source": [
    "ind = wb.search_indicators('race') \n",
    "ind.head(50)\n"
   ]
  },
  {
   "cell_type": "markdown",
   "metadata": {},
   "source": [
    "### ECONOMICS FEATURES"
   ]
  },
  {
   "cell_type": "code",
   "execution_count": null,
   "metadata": {},
   "outputs": [],
   "source": [
    "# Population Total\n",
    "\n",
    "df = generate_df('SP.POP.TOTL')\n",
    "df = df.rename(columns={'changer': 'Population_Total'})\n",
    "\n",
    "df1 = df\n",
    "df1\n"
   ]
  },
  {
   "cell_type": "code",
   "execution_count": null,
   "metadata": {},
   "outputs": [],
   "source": [
    "# GDP current\n",
    "\n",
    "df = generate_df('NY.GDP.MKTP.CD')\n",
    "df = df.rename(columns={'changer': 'GDP(current $)'})\n",
    "\n",
    "df2 = df\n",
    "df2"
   ]
  },
  {
   "cell_type": "code",
   "execution_count": null,
   "metadata": {},
   "outputs": [],
   "source": [
    "# GDP growth\n",
    "\n",
    "df = generate_df('NY.GDP.MKTP.KD.ZG')\n",
    "df = df.rename(columns={'changer': 'GDP_growth'})\n",
    "\n",
    "df3 = df\n",
    "df3"
   ]
  },
  {
   "cell_type": "code",
   "execution_count": null,
   "metadata": {},
   "outputs": [],
   "source": [
    "# GDP per Capita PPP\n",
    "\n",
    "df= generate_df('NY.GDP.PCAP.PP.CD')\n",
    "df = df.rename(columns={'changer': 'GDP_per_capita_PPP'})\n",
    "df4 = df\n",
    "\n",
    "df4"
   ]
  },
  {
   "cell_type": "code",
   "execution_count": null,
   "metadata": {},
   "outputs": [],
   "source": [
    "# GNI(current $)\n",
    "\n",
    "df = generate_df('NY.GNP.ATLS.CD')\n",
    "df = df.rename(columns={'changer': 'GNI(current $)'})\n",
    "df5 = df\n",
    "\n",
    "df5"
   ]
  },
  {
   "cell_type": "code",
   "execution_count": null,
   "metadata": {},
   "outputs": [],
   "source": [
    "# PCAP\n",
    "\n",
    "df = generate_df('NY.GNP.PCAP.CD')\n",
    "df = df.rename(columns={'changer': 'PCAP'})\n",
    "df6 = df\n",
    "df6"
   ]
  },
  {
   "cell_type": "code",
   "execution_count": null,
   "metadata": {},
   "outputs": [],
   "source": [
    "df_economy = pd.concat([df1, df2,df3,df4,df5,df6], axis=1)\n",
    "\n",
    "df_economy = df_economy.loc[:, ~df_economy.columns.duplicated()]\n",
    "\n",
    "df_economy"
   ]
  },
  {
   "cell_type": "markdown",
   "metadata": {},
   "source": [
    "### SOCIALS FEATURES"
   ]
  },
  {
   "cell_type": "code",
   "execution_count": null,
   "metadata": {},
   "outputs": [],
   "source": [
    "# Poverty\n",
    "\n",
    "df = generate_df('SI.POV.UMIC')\n",
    "df = df.rename(columns={'changer': 'Poverty gap'})\n",
    "\n",
    "df1 = df\n",
    "df1"
   ]
  },
  {
   "cell_type": "code",
   "execution_count": null,
   "metadata": {},
   "outputs": [],
   "source": [
    "# Primary\n",
    "df = generate_df('SE.PRM.CMPT.ZS')\n",
    "df = df.rename(columns={'changer': 'Primary_completion(rate)'})\n",
    "\n",
    "df2 = df\n",
    "df2"
   ]
  },
  {
   "cell_type": "code",
   "execution_count": null,
   "metadata": {},
   "outputs": [],
   "source": [
    "# School\n",
    "\n",
    "df = generate_df('SE.PRE.ENRR')\n",
    "df = df.rename(columns={'changer': 'School_enrollement_gross'})\n",
    "\n",
    "df3 = df\n",
    "df3 "
   ]
  },
  {
   "cell_type": "code",
   "execution_count": null,
   "metadata": {},
   "outputs": [],
   "source": [
    "# Hospitals and bed\n",
    "\n",
    "df = generate_df('SH.MED.BEDS.ZS')\n",
    "df = df.rename(columns={'changer': 'Hospital_bed(per 1000 people)'})\n",
    "\n",
    "df4 = df\n",
    "df4 "
   ]
  },
  {
   "cell_type": "code",
   "execution_count": null,
   "metadata": {},
   "outputs": [],
   "source": [
    "#Number of infant death\n",
    "\n",
    "df = generate_df('SP.DYN.IMRT.IN')\n",
    "df = df.rename(columns={'changer': 'Mortality_rate(per 1000 births)'})\n",
    "\n",
    "df5 = df\n",
    "df5"
   ]
  },
  {
   "cell_type": "code",
   "execution_count": null,
   "metadata": {},
   "outputs": [],
   "source": [
    "# Mortality rate\n",
    "\n",
    "df = generate_df('SP.DYN.CDRT.IN')\n",
    "df = df.rename(columns={'changer': 'Mortality_rate(per 1000 people)'})\n",
    "\n",
    "df6 = df\n",
    "df6"
   ]
  },
  {
   "cell_type": "code",
   "execution_count": null,
   "metadata": {},
   "outputs": [],
   "source": [
    "\n",
    "# Population living slum \n",
    "\n",
    "df = generate_df('EN.POP.SLUM.UR.ZS')\n",
    "df = df.rename(columns={'changer': 'population_living_in_slum (%)'})\n",
    "\n",
    "df7 = df\n",
    "df7"
   ]
  },
  {
   "cell_type": "code",
   "execution_count": null,
   "metadata": {},
   "outputs": [],
   "source": [
    "df_social = pd.concat([df1, df2,df3,df4,df5,df6,df7], axis=1)\n",
    "\n",
    "df_social = df_social.loc[:, ~df_social.columns.duplicated()]\n",
    "\n",
    "df_social"
   ]
  },
  {
   "cell_type": "markdown",
   "metadata": {},
   "source": [
    "### POLITICS and MILITARIES FEATURES"
   ]
  },
  {
   "cell_type": "code",
   "execution_count": null,
   "metadata": {},
   "outputs": [],
   "source": [
    "# control of corruption estimate\n",
    "df = generate_df('CC.EST')\n",
    "df = df.rename(columns={'changer': 'control_corruption_estimate'})\n",
    "\n",
    "df1 = df\n",
    "df1"
   ]
  },
  {
   "cell_type": "code",
   "execution_count": null,
   "metadata": {},
   "outputs": [],
   "source": [
    "# controle corruption rank\n",
    "\n",
    "df = generate_df('CC.PER.RNK')\n",
    "df = df.rename(columns={'changer': 'control_corruption_rank'})\n",
    "\n",
    "df2 = df\n",
    "df2"
   ]
  },
  {
   "cell_type": "code",
   "execution_count": null,
   "metadata": {},
   "outputs": [],
   "source": [
    "# Nombre de personnels des forces armées\n",
    "\n",
    "df = generate_df('MS.MIL.TOTL.P1')\n",
    "df = df.rename(columns={'changer': 'army_weight'})\n",
    "\n",
    "df3 = df\n",
    "df3"
   ]
  },
  {
   "cell_type": "code",
   "execution_count": null,
   "metadata": {},
   "outputs": [],
   "source": [
    "# Depense militaire % du pib\n",
    "\n",
    "df = generate_df('MS.MIL.XPND.GD.ZS')\n",
    "df = df.rename(columns={'changer': 'army_expenditure(% GDP)'})\n",
    "\n",
    "df4 = df\n",
    "df4"
   ]
  },
  {
   "cell_type": "code",
   "execution_count": null,
   "metadata": {},
   "outputs": [],
   "source": [
    "\n",
    "# Conflits armés mort\n",
    "\n",
    "df = generate_df('VC.BTL.DETH')\n",
    "df = df.rename(columns={'changer': 'Battle_related(number of death)'})\n",
    "\n",
    "df5 = df\n",
    "df5"
   ]
  },
  {
   "cell_type": "code",
   "execution_count": null,
   "metadata": {},
   "outputs": [],
   "source": [
    "\n",
    "df = generate_df('VC.IHR.PSRC.P5')\n",
    "df = df.rename(columns={'changer': 'Homicide_(per 100K people)'})\n",
    "\n",
    "df6 = df\n",
    "df6"
   ]
  },
  {
   "cell_type": "code",
   "execution_count": null,
   "metadata": {},
   "outputs": [],
   "source": [
    "df_politics = pd.concat([df1, df2,df3,df4,df5,df6], axis=1)\n",
    "\n",
    "df_politics = df_politics.loc[:, ~df_politics.columns.duplicated()]\n",
    "\n",
    "df_politics"
   ]
  },
  {
   "cell_type": "markdown",
   "metadata": {},
   "source": [
    "### TERRITORY AND CULTURE FEATURES"
   ]
  },
  {
   "cell_type": "code",
   "execution_count": null,
   "metadata": {},
   "outputs": [],
   "source": [
    "! kaggle datasets download -d umichigan/world-religions"
   ]
  },
  {
   "cell_type": "code",
   "execution_count": null,
   "metadata": {},
   "outputs": [],
   "source": [
    "df = pd.read_csv('national.csv')\n",
    "\n",
    "mask = df['year'] < 1995\n",
    "\n",
    "df_culture= df.drop(df[mask].index)\n",
    "\n",
    "df_culture\n",
    "\n"
   ]
  },
  {
   "cell_type": "code",
   "execution_count": null,
   "metadata": {},
   "outputs": [],
   "source": [
    "pays_lst = df_culture ['state'].tolist()\n",
    "# print(pays_lst)\n",
    "\n",
    "for i in range(len(pays_lst)):\n",
    "    pays_lst[i] = pays_lst[i].replace(\"St.\", \"Saint\")\n",
    "     \n",
    "\n",
    "for i, v in enumerate(pays_lst):\n",
    "\n",
    "    if v == 'Antigua & Barbuda':\n",
    "        # print(i,v)\n",
    "        pays_lst[i] =\"Antigua and Barbuda\"\n",
    "        # print(12*'_')\n",
    "    elif v == 'Cape Verde':\n",
    "        # print(i,v)\n",
    "        pays_lst[i] =\"Cabo Verde\"\n",
    "        # print(12*'_')\n",
    "\n",
    "    elif v == 'Ivory Coast':\n",
    "        # print(i,v)\n",
    "        pays_lst[i] =\"Côte d'Ivoire\"\n",
    "        # print(12*'_')\n",
    "    \n",
    "    elif v == 'Democratic Republic of the Congo':\n",
    "            # print(i,v)\n",
    "            pays_lst[i] =\"Congo, The Democratic Republic of the\"\n",
    "            # print(pays_lst[i])\n",
    "            # print(12*'_')\n",
    "    elif v == 'Swaziland':\n",
    "            # print(i,v)\n",
    "            pays_lst[i] =\"Eswatini\"\n",
    "            # print(pays_lst[i])\n",
    "            # print(12*'_')\n",
    "\n",
    "    elif v == 'Laos':\n",
    "            # print(i,v)\n",
    "            pays_lst[i] =\"Lao People's Democratic Republic\"\n",
    "            # print(pays_lst[i])\n",
    "            # print(12*'_')\n",
    "    elif v == 'East Timor':\n",
    "            # print(i,v)\n",
    "            pays_lst[i] =\"Timor-Leste\"\n",
    "            # print(pays_lst[i])\n",
    "            # print(12*'_')\n",
    "    elif v == 'Yugoslavia':\n",
    "            # print(i,v)\n",
    "            pays_lst[i] =\"Serbia\"\n",
    "            # print(pays_lst[i])\n",
    "            # print(12*'_')\n",
    "\n",
    "\n",
    "code_pays = []\n",
    "\n",
    "for pays in pays_lst:\n",
    "    if pays not in ['Niger']:\n",
    "        pays_code = pycountry.countries.search_fuzzy(pays)[0].alpha_3\n",
    "        code_pays.append(pays_code)\n",
    "    else:\n",
    "        code_pays.append('NER')\n",
    "    \n",
    "        \n",
    "\n",
    "        \n",
    "\n"
   ]
  },
  {
   "cell_type": "code",
   "execution_count": null,
   "metadata": {},
   "outputs": [],
   "source": [
    "df_culture['code'] = code_pays\n",
    "\n",
    "df_culture"
   ]
  },
  {
   "cell_type": "markdown",
   "metadata": {},
   "source": [
    "### CONFLICTS FEATURES + LABEL"
   ]
  },
  {
   "cell_type": "code",
   "execution_count": null,
   "metadata": {},
   "outputs": [],
   "source": [
    "# conflit armée avec implication du gouvernement\n",
    "\n",
    "df = generate_df2(\"UcdpPrioConflict_v23_1.csv\")\n",
    "df1 = df \n",
    "view = df1[df1['location'] == \"yugoslavia\"]\n",
    "view\n",
    "\n"
   ]
  },
  {
   "cell_type": "code",
   "execution_count": null,
   "metadata": {},
   "outputs": [],
   "source": [
    "df = generate_df2(\"Nonstate_v23_1.csv\")\n",
    "df2 = df \n",
    "\n",
    "\n",
    "view = df2[df2['location'] == \"France\"]\n",
    "view\n"
   ]
  },
  {
   "cell_type": "code",
   "execution_count": null,
   "metadata": {},
   "outputs": [],
   "source": [
    "df_conflict = pd.concat([df1, df2])\n",
    "\n",
    "view = df_conflict[df_conflict['location'] == \"Ukraine\"]\n",
    "\n",
    "view\n",
    "\n",
    "# df_conflict\n"
   ]
  },
  {
   "cell_type": "code",
   "execution_count": null,
   "metadata": {},
   "outputs": [],
   "source": [
    "split_dfs = []\n",
    "\n",
    "for _, row in df_conflict.iterrows():\n",
    "    locations = row['location'].split(', ')\n",
    "    for location in locations:\n",
    "        new_row = {\n",
    "            'country': location,\n",
    "            'year': row['year'],\n",
    "            'Catégorie': row['Catégorie'],\n",
    "            'Number of conflicts': row['Number of conflicts'],\n",
    "            'Conflict in the next 5 years': row['Conflict in the next 5 years']\n",
    "        }\n",
    "        split_dfs.append(pd.DataFrame([new_row]))  \n",
    "\n",
    "\n",
    "new_conflict = pd.concat(split_dfs, ignore_index=True)\n",
    "\n",
    "new_conflict"
   ]
  },
  {
   "cell_type": "markdown",
   "metadata": {},
   "source": [
    "### Merged Dataframes"
   ]
  },
  {
   "cell_type": "markdown",
   "metadata": {},
   "source": [
    "### MERGED WB DF"
   ]
  },
  {
   "cell_type": "code",
   "execution_count": null,
   "metadata": {},
   "outputs": [],
   "source": [
    "# df_economy.merge(df_social, how=\"outer\", on=[\"Country\", \"year\"]).merge(df_politics, how=\"outer\", on=[\"Country\", \"year\"]) \n",
    "\n",
    "# En cas de soucis dans les merged utiliser plutôt le code ci-dessus pour éviter les problematiques."
   ]
  },
  {
   "cell_type": "code",
   "execution_count": null,
   "metadata": {},
   "outputs": [],
   "source": [
    "# merger tous les WB features en une df \n",
    "df_WB = pd.concat([df_economy,df_social,df_politics], axis=1)\n",
    "\n",
    "df_WB = df_WB.loc[:, ~df_WB.columns.duplicated()]\n",
    "\n",
    "df_WB"
   ]
  },
  {
   "cell_type": "code",
   "execution_count": null,
   "metadata": {},
   "outputs": [],
   "source": [
    "# Transformer la df de WB en df exploitable pour le projet\n",
    "\n",
    "c_mean = [c for c in df_WB.columns if c not in ['Country','Battle_related(number of death)','year','Catégorie',]]\n",
    "agg_operations = {}\n",
    "\n",
    "for c in df_WB.columns:\n",
    "    if c in c_mean:\n",
    "        agg_operations[c] = 'mean'\n",
    "    elif c == 'Battle_related(number of death)' :\n",
    "        agg_operations[c] = 'sum'\n",
    "\n",
    "# print(agg_operations)\n",
    "\n",
    "WB = df_WB.groupby(['Country', 'Catégorie']).agg(agg_operations)\n",
    "WB = WB.reset_index()\n",
    "masque = WB['Catégorie'] != \"1990-1994\"\n",
    "WB = WB[masque]\n",
    "\n",
    "new_values = {'1990-1994':'1990',\n",
    "'1995-1999': '1995',\n",
    " '2000-2004': '2000',\n",
    " '2005-2009': '2005',\n",
    " '2010-2014': '2010',\n",
    " '2015-2019': '2015' }\n",
    "\n",
    "\n",
    "\n",
    "WB['Catégorie'] = WB['Catégorie'].replace(new_values)\n",
    "\n",
    "# -----------------------------------------------------\n",
    "\n",
    "WB['Catégorie'] =  WB['Catégorie'].astype(int)\n",
    "code_c = WB['Country'].tolist()\n",
    "\n",
    "# COUNTRY_MAPPING = {pycountry.countries.get(alpha_3=code)\n",
    "#                    for code in WB['Country'].unique()}\n",
    "# WB['Country_name'] = WB['Country'].replace(COUNTRY_MAPPING)\n",
    "# WB.dropna(subset=[\"Country\"], inplace=True)\n",
    "\n",
    "country_names = []\n",
    "\n",
    "for country_code in code_c:\n",
    "    country = pycountry.countries.get(alpha_3=country_code)\n",
    "    if country:\n",
    "        country_names.append(country.name)\n",
    "    else:\n",
    "        country_names.append('inconnu')\n",
    "\n",
    "WB['Country_name'] = country_names\n",
    "\n",
    "# Réorganisation de colonnes\n",
    "\n",
    "WB = WB[['Country','Country_name','Catégorie','Population_Total','GDP(current $)','GDP_growth',\n",
    "'GDP_per_capita_PPP','GNI(current $)','PCAP','Poverty gap', 'Primary_completion(rate)', 'Mortality_rate(per 1000 births)',\n",
    "'Mortality_rate(per 1000 people)','population_living_in_slum (%)','control_corruption_estimate','control_corruption_rank',\n",
    "'army_weight','army_expenditure(% GDP)', 'Battle_related(number of death)','Homicide_(per 100K people)',]]\n",
    "\n",
    "WB = WB[WB['Country_name'] != \"inconnu\"]\n",
    "WB = WB.rename(columns={'Country': 'code'})\n",
    "WB = WB.rename(columns={'Catégorie': 'year'})\n",
    "WB.to_csv('WB_treated.csv', index=False)\n",
    "\n",
    "WB\n",
    "\n",
    "\n",
    "\n",
    "\n"
   ]
  },
  {
   "cell_type": "markdown",
   "metadata": {},
   "source": [
    "### MERGED KAGGLE DATASET"
   ]
  },
  {
   "cell_type": "code",
   "execution_count": null,
   "metadata": {},
   "outputs": [],
   "source": [
    "df_culture = df_culture.drop('state', axis=1)\n",
    "\n",
    "merged_1 = pd.merge(WB,df_culture , on=['code','year'], how='left')\n",
    "\n",
    "\n",
    "merged_1"
   ]
  },
  {
   "cell_type": "markdown",
   "metadata": {},
   "source": [
    "### MERGED UCDP DATAFRAMES"
   ]
  },
  {
   "cell_type": "code",
   "execution_count": null,
   "metadata": {},
   "outputs": [],
   "source": [
    "new_conflict\n",
    "\n",
    "agg_operations = {'Number of conflicts':'sum'}\n",
    "\n",
    "\n",
    "conflict = new_conflict.groupby(['country', 'Catégorie']).agg(agg_operations)\n",
    "conflict = conflict.reset_index()\n",
    "masque = conflict['Catégorie'] != \"1990-1994\"\n",
    "conflict = conflict[masque]\n",
    "\n",
    "new_values = {'1990-1994':'1990',\n",
    "'1995-1999': '1995',\n",
    " '2000-2004': '2000',\n",
    " '2005-2009': '2005',\n",
    " '2010-2014': '2010',\n",
    " '2015-2019': '2015',\n",
    " '2020-2024':'2020' }\n",
    "\n",
    "\n",
    "\n",
    "conflict['Catégorie'] = conflict['Catégorie'].replace(new_values)\n",
    "\n",
    "conflict = conflict.drop(conflict[conflict['Number of conflicts'] == 0].index)\n",
    "\n",
    "conflict['country'].unique()\n",
    "\n"
   ]
  },
  {
   "cell_type": "code",
   "execution_count": null,
   "metadata": {},
   "outputs": [],
   "source": [
    "pays_lst = conflict ['country'].tolist()\n",
    "# print(pays_lst)\n",
    "\n",
    "for i in range(len(pays_lst)):\n",
    "    pays_lst[i] = pays_lst[i].replace(\"St.\", \"Saint\")\n",
    "     \n",
    "\n",
    "for i, v in enumerate(pays_lst):\n",
    "\n",
    "    if v == 'Bosnia-Herzegovina':\n",
    "        # print(12*'_')\n",
    "        # print(i,v)\n",
    "        pays_lst[i] =\"Bosnia and Herzegovina\"\n",
    "        # print(pays_lst[i])\n",
    "        # print(12*'_')\n",
    "\n",
    "    elif v == 'Cambodia (Kampuchea)':\n",
    "        # print(12*'_')\n",
    "        # print(i,v)\n",
    "        pays_lst[i] =\"Cambodia\"\n",
    "        # print(pays_lst[i])\n",
    "        # print(12*'_')\n",
    "    \n",
    "    elif v in ['DR Congo (Zaire)']:\n",
    "        # print(12*'_')\n",
    "        # print(i,v)\n",
    "        pays_lst[i] =\"Congo, The Democratic Republic of the\"\n",
    "        # print(pays_lst[i])\n",
    "        # print(12*'_')\n",
    "\n",
    "    elif v in ['Ivory Coast']:\n",
    "        # print(12*'_')\n",
    "        # print(i,v)\n",
    "        pays_lst[i] =\"Côte d'Ivoire\"\n",
    "        # print(pays_lst[i])\n",
    "        # print(12*'_')\n",
    "    \n",
    "    elif v in ['Madagascar (Malagasy)']:\n",
    "        # print(12*'_')\n",
    "        # print(i,v)\n",
    "        pays_lst[i] =\"Madagascar\"\n",
    "        # print(pays_lst[i])\n",
    "        # print(12*'_')\n",
    "    \n",
    "    elif v in ['Myanmar (Burma)']:\n",
    "        # print(12*'_')\n",
    "        # print(i,v)\n",
    "        pays_lst[i] =\"Myanmar\"\n",
    "        # print(pays_lst[i])\n",
    "        # print(12*'_')\n",
    "    \n",
    "    elif v in ['Russia (Soviet Union)']:\n",
    "        # print(12*'_')\n",
    "        # print(i,v)\n",
    "        pays_lst[i] =\"Russian Federation\"\n",
    "        # print(pays_lst[i])\n",
    "        # print(12*'_')\n",
    "\n",
    "    elif v in ['Serbia (Yugoslavia)']:\n",
    "        # print(12*'_')\n",
    "        # print(i,v)\n",
    "        pays_lst[i] =\"Serbia\"\n",
    "        # print(pays_lst[i])\n",
    "        # print(12*'_')\n",
    "\n",
    "    elif v in ['Yemen (North Yemen)']:\n",
    "        # print(12*'_')\n",
    "        # print(i,v)\n",
    "        pays_lst[i] =\"Yemen\"\n",
    "        # print(pays_lst[i])\n",
    "        # print(12*'_')\n",
    "\n",
    "# country_mapping = {}\n",
    "\n",
    "# for pays in pays_lst:\n",
    "#     pays_code = pycountry.countries.search_fuzzy(pays)[0].alpha_3\n",
    "    \n",
    "#     country_mapping[pays] = pays_code\n",
    "\n",
    "# print(country_mapping)\n",
    "\n",
    "code_pays = []\n",
    "\n",
    "for pays in pays_lst:\n",
    "    if pays not in ['Niger']:\n",
    "        pays_code = pycountry.countries.search_fuzzy(pays)[0].alpha_3\n",
    "        code_pays.append(pays_code)\n",
    "    else:\n",
    "        code_pays.append('NER')\n",
    "\n",
    "\n",
    "print(code_pays)\n",
    "\n",
    "        \n",
    "\n"
   ]
  },
  {
   "cell_type": "code",
   "execution_count": null,
   "metadata": {},
   "outputs": [],
   "source": [
    "conflict['code'] = code_pays\n",
    "conflict['Catégorie'] = conflict['Catégorie'].astype(int)\n",
    "conflict.rename(columns={'Catégorie': 'year'}, inplace=True)\n",
    "conflict.drop(columns=['country'], inplace=True)\n",
    "conflict.info( )\n"
   ]
  },
  {
   "cell_type": "code",
   "execution_count": null,
   "metadata": {},
   "outputs": [],
   "source": [
    "merged_final = pd.merge(merged_1,conflict , on=['code','year'], how='left')\n",
    "\n",
    "\n",
    "\n",
    "\n",
    "\n",
    "merged_final['Number of conflicts'].isna().sum()\n",
    "merged_final['Number of conflicts'].fillna(0, inplace=True)\n",
    "merged_final.drop(columns=['source_code'], inplace=True)\n",
    "merged_final.to_csv('df_sans_label.csv', index=False)\n",
    "\n",
    "merged_final\n",
    "\n",
    "\n"
   ]
  },
  {
   "cell_type": "code",
   "execution_count": null,
   "metadata": {},
   "outputs": [],
   "source": [
    "merged_final['code'].nunique()"
   ]
  },
  {
   "cell_type": "markdown",
   "metadata": {},
   "source": [
    "### CREATION DU LABEL"
   ]
  },
  {
   "cell_type": "code",
   "execution_count": null,
   "metadata": {},
   "outputs": [],
   "source": [
    "\n",
    "merged_final['conflict (within 5 years)'] = (merged_final['Number of conflicts'].shift(-1) > 0).astype(int)\n",
    "\n",
    "\n",
    "merged_final.loc[merged_final['year'] == 2015, 'conflict (within 5 years)'] = np.nan\n",
    "\n",
    "merged_final.to_csv('features.csv', index=False)\n",
    "\n",
    "\n",
    "merged_final.head(50)"
   ]
  }
 ],
 "metadata": {
  "kernelspec": {
   "display_name": "Python 3",
   "language": "python",
   "name": "python3"
  },
  "language_info": {
   "codemirror_mode": {
    "name": "ipython",
    "version": 3
   },
   "file_extension": ".py",
   "mimetype": "text/x-python",
   "name": "python",
   "nbconvert_exporter": "python",
   "pygments_lexer": "ipython3",
   "version": "3.11.4"
  },
  "orig_nbformat": 4
 },
 "nbformat": 4,
 "nbformat_minor": 2
}
