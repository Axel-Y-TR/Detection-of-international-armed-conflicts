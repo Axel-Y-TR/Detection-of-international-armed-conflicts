{
 "cells": [
  {
   "cell_type": "code",
   "execution_count": null,
   "metadata": {},
   "outputs": [],
   "source": [
    "import pandas as pd\n",
    "import matplotlib.pyplot as plt\n",
    "from sklearn.feature_selection import SelectKBest\n",
    "from sklearn.feature_selection import f_classif\n",
    "import numpy as np\n",
    "import seaborn as sns\n",
    "from sklearn.linear_model import LogisticRegression\n",
    "from sklearn.model_selection import GridSearchCV\n",
    "from sklearn.preprocessing import StandardScaler\n",
    "from sklearn.svm import LinearSVC\n",
    "from sklearn.ensemble import RandomForestClassifier\n",
    "from sklearn.feature_selection import RFECV\n",
    "from sklearn.model_selection import StratifiedKFold\n",
    "from sklearn.tree import DecisionTreeClassifier\n",
    "from sklearn.metrics import roc_auc_score, confusion_matrix, roc_curve, precision_score, recall_score\n"
   ]
  },
  {
   "cell_type": "markdown",
   "metadata": {},
   "source": [
    "### Original DataFrame "
   ]
  },
  {
   "cell_type": "code",
   "execution_count": null,
   "metadata": {},
   "outputs": [],
   "source": [
    "df = pd.read_excel('dataviz.xlsx')\n",
    "df['conflict (within 5 years)'].value_counts()"
   ]
  },
  {
   "cell_type": "code",
   "execution_count": null,
   "metadata": {},
   "outputs": [],
   "source": [
    "col_y = ['code','country_name','year','conflict (within 5 years)']\n",
    "dfy = df[col_y]\n"
   ]
  },
  {
   "cell_type": "markdown",
   "metadata": {},
   "source": [
    "### Features Selections"
   ]
  },
  {
   "cell_type": "code",
   "execution_count": null,
   "metadata": {},
   "outputs": [],
   "source": [
    "col = ['code','country_name','year']\n",
    "df = df.set_index(col)\n",
    "\n",
    "# ---------- suprimer ce qui est avant ---------------------------------------------------------\n",
    "dfx = df\n",
    "columns_to_drop = ['conflict (within 5 years)','gni','judaism_orthodox',\n",
    "'judaism_conservative','control_corruption_rank','judaism_reform'\n",
    ",'islam_sunni','islam_ibadhi','buddhism_other','orthodox_percent','conservative_percent','shinto_percent',\n",
    "'jainism_percent','confucianism_percent','total_percent','religion_all','jainism_all','sikhism_all','taoism_all','syncretism_all']\n",
    "\n",
    "dfx.drop(columns=columns_to_drop, inplace=True)\n",
    "\n",
    "dfx.info()\n"
   ]
  },
  {
   "cell_type": "code",
   "execution_count": null,
   "metadata": {},
   "outputs": [],
   "source": [
    "# détection des correlations supérieures à 0,9\n",
    "\n",
    "correlation_matrix = dfx.corr().abs()\n",
    "\n",
    "viz = correlation_matrix.mask(correlation_matrix < 0.9, np.nan)\n",
    "\n",
    "\n",
    "for col in viz.columns:\n",
    "    unique_values = viz[col].nunique()\n",
    "    value_counts = viz[col].value_counts()\n",
    "    if unique_values > 1:\n",
    "        print(\"Colonnes:\", col)\n",
    "        print(\"Nombre de valeurs uniques:\", value_counts)\n",
    "        print(\"=\" * 40)\n",
    "\n",
    "\n",
    "\n",
    "\n",
    "\n"
   ]
  },
  {
   "cell_type": "code",
   "execution_count": null,
   "metadata": {},
   "outputs": [],
   "source": [
    "# correlationmatrix map indiquant toutes les valeures superieure à 0.9 val.abs\n",
    "correlation_matrix = dfx.corr().abs()\n",
    "\n",
    "mask = np.triu(np.ones_like(correlation_matrix, dtype=bool))\n",
    "plt.figure(figsize=(15, 20))  \n",
    "sns.heatmap(correlation_matrix[correlation_matrix > 0.9], annot=False, cmap='coolwarm', linewidths=0.5,mask = mask)\n",
    "plt.title('Heatmap général')\n",
    "plt.show()"
   ]
  },
  {
   "cell_type": "markdown",
   "metadata": {},
   "source": [
    "### preparation train/test split"
   ]
  },
  {
   "cell_type": "code",
   "execution_count": null,
   "metadata": {},
   "outputs": [],
   "source": [
    "dfx.reset_index(inplace=True)\n",
    "# ------------Créer manuellemnt X_train -------------------\n",
    "X_train = dfx[(dfx['year'] == 1995) | (dfx['year'] == 2000) | (dfx['year'] == 2005)]\n",
    "\n",
    "col = ['code','country_name','year']\n",
    "X_train = X_train.set_index(col)\n",
    "\n",
    "y_train = dfy[(dfy['year'] == 1995) | (dfy['year'] == 2000) | (dfy['year'] == 2005)]\n",
    "\n",
    "# ------------Créer manuellemnt X_test -------------------\n",
    "X_test = dfx[dfx['year'] == 2010]\n",
    "\n",
    "col = ['code','country_name','year']\n",
    "X_test = X_test.set_index(col)\n",
    "\n",
    "y_test  = dfy[dfy['year'] == 2010]\n",
    "\n",
    "# ------------Créer manuellemnt X_real -------------------\n",
    "X_real = dfx[dfx['year'] == 2015]\n",
    "\n",
    "col = ['code','country_name','year']\n",
    "X_real = X_real.set_index(col)\n",
    "\n",
    "y_real  = dfy[dfy['year'] == 2015]\n",
    "\n",
    "col = ['code','year','country_name']\n",
    "y_real.drop(columns=col, inplace=True)\n",
    "y_train.drop(columns=col, inplace=True)\n",
    "y_test.drop(columns=col, inplace=True)\n"
   ]
  },
  {
   "cell_type": "code",
   "execution_count": null,
   "metadata": {},
   "outputs": [],
   "source": [
    "scaler = StandardScaler()\n",
    "\n",
    "X_train_scaled = scaler.fit_transform(X_train)"
   ]
  },
  {
   "cell_type": "markdown",
   "metadata": {},
   "source": [
    "### First train with Logistic Regression Model"
   ]
  },
  {
   "cell_type": "code",
   "execution_count": null,
   "metadata": {},
   "outputs": [],
   "source": [
    "# Model logisticRegression first try\n",
    "\n",
    "model = LogisticRegression()\n",
    "\n",
    "param_grid = {\n",
    "    'C': np.arange(0.018,0.025, step=0.001),\n",
    "    'penalty': ['l1', 'l2'],\n",
    "    'max_iter': [100, 1000, 5000],\n",
    "}\n",
    "\n",
    "grid_search = GridSearchCV(\n",
    "    estimator=model,\n",
    "    param_grid=param_grid,\n",
    "    cv=3,\n",
    "    scoring='roc_auc',\n",
    "    n_jobs= 2\n",
    ")\n",
    "\n",
    "grid_search.fit(X_train_scaled, y_train)\n",
    "\n",
    "best_model = grid_search.best_estimator_\n",
    "\n"
   ]
  },
  {
   "cell_type": "code",
   "execution_count": null,
   "metadata": {},
   "outputs": [],
   "source": [
    "print(\"Meilleurs hyperparamètres :\", grid_search.best_params_)\n",
    "print(\"Meilleur score (AUC) :\", grid_search.best_score_)"
   ]
  },
  {
   "cell_type": "markdown",
   "metadata": {},
   "source": [
    "### TRY OTHER MODEL"
   ]
  },
  {
   "cell_type": "code",
   "execution_count": null,
   "metadata": {},
   "outputs": [],
   "source": [
    "# Model LinearSVC()\n",
    "model = LinearSVC()\n",
    "\n",
    "param_grid = {\n",
    "    'C': np.arange(0,0.19, step=0.01),\n",
    "    'penalty': ['l1', 'l2'],\n",
    "    'max_iter': [5000, 5100, 5500],\n",
    "}\n",
    "\n",
    "grid_search = GridSearchCV(\n",
    "    estimator=model,\n",
    "    param_grid=param_grid,\n",
    "    cv=3,\n",
    "    scoring='roc_auc',\n",
    "    n_jobs=2\n",
    ")\n",
    "\n",
    "grid_search.fit(X_train_scaled, y_train)\n",
    "\n",
    "best_model = grid_search.best_estimator_\n"
   ]
  },
  {
   "cell_type": "code",
   "execution_count": null,
   "metadata": {},
   "outputs": [],
   "source": [
    "print(\"Meilleurs hyperparamètres :\", grid_search.best_params_)\n",
    "print(\"Meilleur score (AUC) :\", grid_search.best_score_)"
   ]
  },
  {
   "cell_type": "code",
   "execution_count": null,
   "metadata": {},
   "outputs": [],
   "source": [
    "\n",
    "\n",
    "model = RandomForestClassifier()\n",
    "\n",
    "param_grid = {\n",
    "    'n_estimators': [150,200,250],  \n",
    "    'max_depth': range(0,10),  \n",
    "    'min_samples_split': [2, 5, 10],  \n",
    "    'min_samples_leaf': [1, 2, 4],  \n",
    "    'bootstrap': [True, False]  \n",
    "}\n",
    "\n",
    "grid_search = GridSearchCV(\n",
    "    estimator=model,\n",
    "    param_grid=param_grid,\n",
    "    cv=3,\n",
    "    scoring='roc_auc',\n",
    "    n_jobs=2\n",
    ")\n",
    "\n",
    "grid_search.fit(X_train, y_train)\n",
    "\n",
    "best_model = grid_search.best_estimator_\n"
   ]
  },
  {
   "cell_type": "code",
   "execution_count": null,
   "metadata": {},
   "outputs": [],
   "source": [
    "print(\"Meilleurs hyperparamètres :\", grid_search.best_params_)\n",
    "print(\"Meilleur score (AUC) :\", grid_search.best_score_)"
   ]
  },
  {
   "cell_type": "markdown",
   "metadata": {},
   "source": [
    "### USING RFECV"
   ]
  },
  {
   "cell_type": "code",
   "execution_count": null,
   "metadata": {},
   "outputs": [],
   "source": [
    "\n",
    "# rfecv = RFECV(estimator= RandomForestClassifier(),step=1,min_features_to_select = 1, cv=StratifiedKFold(n_splits=3), scoring='roc_auc')\n",
    "# rfecv.fit(X_train, y_train.values.ravel())\n",
    "# scores = rfecv.cv_results_['mean_test_score']\n",
    "\n",
    "# print(scores)\n",
    "\n",
    "# print(f\"Optimal number of features: {rfecv.n_features_}\")\n",
    "\n"
   ]
  },
  {
   "cell_type": "code",
   "execution_count": null,
   "metadata": {},
   "outputs": [],
   "source": [
    "# selected_features = rfecv.feature_names_in_[rfecv.support_]\n",
    "# selected_features\n"
   ]
  },
  {
   "cell_type": "code",
   "execution_count": null,
   "metadata": {},
   "outputs": [],
   "source": [
    "\n",
    "\n",
    "# n_scores = len(rfecv.cv_results_[\"mean_test_score\"])\n",
    "# plt.figure()\n",
    "# plt.xlabel(\"Number of features selected\")\n",
    "# plt.ylabel(\"Mean test ROC_AUC\")\n",
    "# plt.errorbar(\n",
    "#     range(15, n_scores + 15),\n",
    "#     rfecv.cv_results_[\"mean_test_score\"],\n",
    "#     yerr=rfecv.cv_results_[\"std_test_score\"],\n",
    "# )\n",
    "# plt.title(\"Recursive Feature Elimination \\nwith correlated features\")\n",
    "# plt.show()"
   ]
  },
  {
   "cell_type": "code",
   "execution_count": null,
   "metadata": {},
   "outputs": [],
   "source": [
    "# X_select = rfecv.transform(X_train)\n",
    "# X_select_test = rfecv.transform(X_test)\n",
    "# X_select_real = rfecv.transform(X_real)\n",
    "# ---------------------------------------------------------------------------\n",
    "\n",
    "# Features selected after the first RFECV\n",
    "\n",
    "col_f = ['population_total', 'pcap', 'primary_completion(rate)',\n",
    "       'control_corruption_estimate', 'army_weight',\n",
    "       'battle_related(number of death)', 'homicide_(per 100k people)',\n",
    "       'christianity_all', 'islam_all', 'number of conflicts']\n",
    "\n",
    "X_select = X_train[col_f]\n",
    "X_select_test = X_test[col_f]\n",
    "X_select_real = X_real[col_f]\n"
   ]
  },
  {
   "cell_type": "code",
   "execution_count": null,
   "metadata": {},
   "outputs": [],
   "source": [
    "# rfecv = RFECV(estimator= DecisionTreeClassifier(),step=1,min_features_to_select = 1, cv=StratifiedKFold(n_splits=3), scoring='roc_auc')\n",
    "# rfecv.fit(X_train, y_train.values.ravel())\n",
    "# scores = rfecv.cv_results_['mean_test_score']\n",
    "\n",
    "# print(scores)\n",
    "\n",
    "# print(f\"Optimal number of features: {rfecv.n_features_}\")"
   ]
  },
  {
   "cell_type": "code",
   "execution_count": null,
   "metadata": {},
   "outputs": [],
   "source": [
    "# rfecv.feature_names_in_[rfecv.support_]"
   ]
  },
  {
   "cell_type": "markdown",
   "metadata": {},
   "source": [
    "### TRY TO BOOST THE ALGORITHM"
   ]
  },
  {
   "cell_type": "code",
   "execution_count": null,
   "metadata": {},
   "outputs": [],
   "source": [
    "model = DecisionTreeClassifier()\n",
    "\n",
    "param_grid = {\n",
    "    'max_depth': range(1, 10),  \n",
    "    'min_samples_split': [2, 3, 1],  \n",
    "    'min_samples_leaf': [14, 13, 12],  \n",
    "}\n",
    "\n",
    "grid_search = GridSearchCV(\n",
    "    estimator=model,\n",
    "    param_grid=param_grid,\n",
    "    cv=3,\n",
    "    scoring='roc_auc',\n",
    "    n_jobs=2,\n",
    "    return_train_score=True\n",
    ")\n",
    "\n",
    "\n",
    "grid_search.fit(X_select, y_train)\n",
    "\n",
    "best_model = grid_search.best_estimator_\n",
    "\n",
    "print(\"Meilleurs hyperparamètres :\", grid_search.best_params_)\n",
    "print(\"Meilleur score (AUC) :\", grid_search.best_score_)\n",
    "print(\"Train score\", grid_search.cv_results_['mean_train_score'])"
   ]
  },
  {
   "cell_type": "code",
   "execution_count": null,
   "metadata": {},
   "outputs": [],
   "source": [
    "model = RandomForestClassifier()\n",
    "\n",
    "param_grid = {\n",
    "    'n_estimators': [200],\n",
    "    'max_depth': [6],\n",
    "    'min_samples_split': [9],  \n",
    "    'min_samples_leaf': [3],  \n",
    "    'bootstrap': [True] \n",
    "}\n",
    "\n",
    "grid_search = GridSearchCV(\n",
    "    estimator=model,\n",
    "    param_grid=param_grid,\n",
    "    cv=3,\n",
    "    scoring='roc_auc',\n",
    "    n_jobs=2,\n",
    "    return_train_score=True\n",
    ")\n",
    "\n",
    "grid_search.fit(X_select, y_train)\n",
    "\n",
    "best_model = grid_search.best_estimator_"
   ]
  },
  {
   "cell_type": "code",
   "execution_count": null,
   "metadata": {},
   "outputs": [],
   "source": [
    "print(\"Meilleurs hyperparamètres :\", grid_search.best_params_)\n",
    "print(\"Meilleur score (AUC) :\", grid_search.best_score_)\n",
    "# print(\"Train score\", grid_search.cv_results_['mean_train_score'])\n",
    "\n",
    "\n"
   ]
  },
  {
   "cell_type": "markdown",
   "metadata": {},
   "source": [
    "### TEST OUR MODEL"
   ]
  },
  {
   "cell_type": "code",
   "execution_count": null,
   "metadata": {},
   "outputs": [],
   "source": [
    "\n",
    "\n",
    "thr = 0.4\n",
    "\n",
    "y_pred_proba = best_model.predict_proba(X_select_test)[:, 1]\n",
    "y_pred = y_pred_proba > thr\n",
    "roc_auc_RF = roc_auc_score(y_test, y_pred_proba)\n",
    "precision = precision_score(y_test, (y_pred_proba >= thr).astype(int))\n",
    "recall = recall_score(y_test, (y_pred_proba >= thr).astype(int))\n",
    "confusion = confusion_matrix(y_test, y_pred)\n",
    "\n",
    "print(\"Aire sous la courbe ROC (AUC) :\", roc_auc_RF)\n",
    "print(\"Précision :\", precision)\n",
    "print(\"Rappel :\", recall)\n",
    "print(\"confusion matrix :\" , confusion)"
   ]
  },
  {
   "cell_type": "code",
   "execution_count": null,
   "metadata": {},
   "outputs": [],
   "source": [
    "plt.figure(figsize=(6, 6))\n",
    "sns.heatmap(confusion, annot=True, fmt='d', cmap='Reds', cbar=False)\n",
    "plt.xlabel('Prediction')\n",
    "plt.ylabel('True Values')\n",
    "plt.title('Confusion Matrix')\n",
    "plt.show()"
   ]
  },
  {
   "cell_type": "code",
   "execution_count": null,
   "metadata": {},
   "outputs": [],
   "source": [
    "\n",
    "\n",
    "fpr, tpr, thresholds = roc_curve(y_test, y_pred_proba)\n",
    "\n",
    "\n",
    "plt.figure(figsize=(10, 6))\n",
    "plt.plot([0, 1], [0, 1], 'k--', label='Random Guessing')\n",
    "\n",
    "plt.plot(fpr, tpr, color='b', lw=2, label=f'Random Forest (AUC = {roc_auc_RF:.2f})')\n",
    "\n",
    "plt.title('Courbe ROC pour Random Forest')\n",
    "plt.xlabel('Taux de Faux Positifs (FPR)')\n",
    "plt.ylabel('Taux de Vrais Positifs (TPR)')\n",
    "plt.legend()\n",
    "\n",
    "\n",
    "plt.grid(True)\n",
    "plt.show()"
   ]
  },
  {
   "cell_type": "markdown",
   "metadata": {},
   "source": [
    "### Prediction of the conflict between 2020 - 2024"
   ]
  },
  {
   "cell_type": "code",
   "execution_count": null,
   "metadata": {},
   "outputs": [],
   "source": [
    "y_pred_proba_real = best_model.predict_proba(X_select_real)[:, 1]\n",
    "\n",
    "data_real =  X_real[col_f].copy()\n",
    "\n",
    "\n",
    "data_real['pred_score'] = y_pred_proba_real\n",
    "\n",
    "data_real['pred'] =  data_real['pred_score'] >= thr\n",
    "\n",
    "data_real.to_csv('Prediction_2020_2024.csv', index=True)\n",
    "\n",
    "data_real\n",
    "\n",
    "Prediction = data_real[data_real['pred_score'] >= 0.4]\n",
    "\n",
    "Prediction\n",
    "\n"
   ]
  }
 ],
 "metadata": {
  "kernelspec": {
   "display_name": "Python 3",
   "language": "python",
   "name": "python3"
  },
  "language_info": {
   "codemirror_mode": {
    "name": "ipython",
    "version": 3
   },
   "file_extension": ".py",
   "mimetype": "text/x-python",
   "name": "python",
   "nbconvert_exporter": "python",
   "pygments_lexer": "ipython3",
   "version": "3.11.4"
  },
  "orig_nbformat": 4
 },
 "nbformat": 4,
 "nbformat_minor": 2
}
